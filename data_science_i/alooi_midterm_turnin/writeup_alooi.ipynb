{
 "cells": [
  {
   "cell_type": "markdown",
   "metadata": {},
   "source": [
    "# Alexander Looi Midterm Project Write Up."
   ]
  },
  {
   "cell_type": "code",
   "execution_count": 2,
   "metadata": {
    "collapsed": true
   },
   "outputs": [],
   "source": [
    "# import some things to do accuracy testing of the jarvis bot\n",
    "from sklearn.metrics import confusion_matrix\n",
    "import matplotlib.pyplot as plt\n",
    "import numpy as np"
   ]
  },
  {
   "cell_type": "markdown",
   "metadata": {},
   "source": [
    "### Measuring Jarvis' Accuracy"
   ]
  },
  {
   "cell_type": "markdown",
   "metadata": {},
   "source": [
    "To test jarvis' accuracy I decided to conduct two analysis, both of which tell a similar story with different details. I used a confusion matrix to see what jarvis was predicting correctly and to see what jarvis was predicting incorrectly. If something is being predicted incorrectly, we can use the matrix to see if jarvis is incorrectly in a \"consistent\" way. Thus, if the incorrect predictions are \"unpredictable\" then we may need many more training examples to to help jarvis categorize the different classes more specifically. If the incorrect predictions are more predictable, then we may a smaller volume of training examples to help jarvis specify between a couple of classes."
   ]
  },
  {
   "cell_type": "markdown",
   "metadata": {},
   "source": [
    "The second analysis I did is a more broad measure, using sklearn's classification_report() function. The two metrics I focus on are precision and recall. Here precision is the number of true positives (correct predictions) over the total number of test examples. Recall is the total number of true positives over the all relevant elements (all real true elements). A high recall indicates you don't miss a true positive. Where as high precision indicates how well you predicted corrected out of all test cases. Finally, the f1 score balances theses two measures because these two metrics can not be both perfect at the same time."
   ]
  },
  {
   "cell_type": "markdown",
   "metadata": {},
   "source": [
    "In testing I tried to give phrases that were delibrately confusing. Often I tried to include words that could make a phrase ambiguous as to which class it belonged to. For example, \"when will the pizza arrive\", \"when will the rain stop\". Each of these two phrases belong to pizza and weather (though you could debate this), they both have an element of time to them.  I wanted to see how well jarvis would do with abiguity in test phrasing."
   ]
  },
  {
   "cell_type": "code",
   "execution_count": 6,
   "metadata": {
    "collapsed": true
   },
   "outputs": [],
   "source": [
    "# confusion matrix\n",
    "y_pred = ['greet', 'greet', 'greet', 'pizza', 'pizza', 'joke', \n",
    "          'joke', 'greet', 'weather', 'weather', 'greet', 'weather', \n",
    "          'weather', 'pizza', 'weather', 'joke', 'time', 'time', 'pizza', \n",
    "          'pizza', 'time']\n",
    "y_true = ['greet', 'greet', 'pizza', 'pizza', 'pizza', 'joke', 'joke',\n",
    "         'joke', 'weather', 'weather', 'greet', 'pizza', 'pizza', \n",
    "          'pizza', 'weather', 'joke', 'time', 'time', 'time', 'time',\n",
    "         'time']\n",
    "classes = ['weather', 'time', 'pizza', 'greet', 'joke']\n",
    "# create a raw confusion matrix table\n",
    "cm = confusion_matrix(y_true, y_pred, labels=classes)\n",
    "# create a normalized confusion matrix\n",
    "cm2 = cm.astype('float') / cm.sum(axis=1)[:, np.newaxis]"
   ]
  },
  {
   "cell_type": "code",
   "execution_count": 7,
   "metadata": {
    "collapsed": false
   },
   "outputs": [
    {
     "data": {
      "image/png": "[encoded data removed]",
      "text/plain": [
       "<matplotlib.figure.Figure at 0x10ece4ef0>"
      ]
     },
     "metadata": {},
     "output_type": "display_data"
    }
   ],
   "source": [
    "# plot a confusion matrix with a color map\n",
    "tick_marks = np.arange(len(classes))\n",
    "plt.xticks(tick_marks, classes, rotation=45)\n",
    "plt.yticks(tick_marks, classes)\n",
    "plt.imshow(cm2, interpolation='nearest', cmap='gray')\n",
    "plt.title('confusion matrix')\n",
    "plt.colorbar()\n",
    "plt.show()"
   ]
  },
  {
   "cell_type": "code",
   "execution_count": 8,
   "metadata": {
    "collapsed": false
   },
   "outputs": [
    {
     "name": "stdout",
     "output_type": "stream",
     "text": [
      "             precision    recall  f1-score   support\n",
      "\n",
      "      greet       0.60      1.00      0.75         3\n",
      "       joke       1.00      0.75      0.86         4\n",
      "      pizza       0.60      0.50      0.55         6\n",
      "       time       1.00      0.60      0.75         5\n",
      "    weather       0.60      1.00      0.75         3\n",
      "\n",
      "avg / total       0.77      0.71      0.71        21\n",
      "\n"
     ]
    }
   ],
   "source": [
    "# print a classification report\n",
    "from sklearn.metrics import classification_report\n",
    "print(classification_report(y_true, y_pred))"
   ]
  },
  {
   "cell_type": "markdown",
   "metadata": {},
   "source": [
    "Looking at both the confusion matrix and the classification report the model appears to predict weather and greet classes well (high recall). However, the precision is not great since it seems to be confused with other classes. Pizza was interestingly confused with the weather class often specfically with the phrases \"who puts pineapple on their pies\", and \"who puts pineapple on their pizza\". I thought that the word pizza would tell jarvis that is is part of the pizza class. However, obviously this was not the case. Other classes jarvis had trouble with with were pizza and time. Often getting the two confused. This is partly because of the design of the testing phrases where the phrases included an element of time and pizza in it (e.g. \"when is the pizza arriving\" or \"when is the food arriving\"). Using this \"confusion\" phrases led to jarvis having poor precision and recall for the pizza class. Jarvis had good precision with time, but that again is partly due to the \"confusing\" phrases I used, where jarvis would continually predict time instead of pizza. \n",
    "\n",
    "Jarvis was best at predicting the joke class. Here we had realtively high precision and recall. I think is partly because the joke class is a pretty distinct class where phrases tend to be very different from the others. This could also be a factor of my test phrases and training phrases being distinctly different from the other classes. It is very possible to have jokes about time and pizza, but I simply did not test or train on these. "
   ]
  },
  {
   "cell_type": "markdown",
   "metadata": {},
   "source": [
    "### How to improve jarvis"
   ]
  },
  {
   "cell_type": "markdown",
   "metadata": {},
   "source": [
    "To improve jarvis, I think we need to include more than $\\approx 50$ training examples. Definitely, should find a large \"simple conversion corpus\" to train the bot on. With my simple short training phrases words that I personally would not associate with any particular class (is, and, how, why) could be associated, by jarvis to a particular class. More data is needed to help jarvis \"de-associate\" these words to a particulare class. Second, helping jarvis learn context could help particularly when words appear together in a sentence or if they appear directly next to each other, context for words is very important in human language. Lastly, we're forcing jarvis to associate a phrase with a single class, I think I've demonstrated to some degree that it's possible for a phrase to belong to two classes (certainly this is true in human language). So a new model that could return multiple classes per document I think would help both the  prediction and performance of jarvis."
   ]
  },
  {
   "cell_type": "markdown",
   "metadata": {},
   "source": [
    "### Post Mortem"
   ]
  },
  {
   "cell_type": "markdown",
   "metadata": {},
   "source": [
    "For me I kept going down the wrong \"avenue\" during this project, though I think this is more a problem with me not reading some of the instructions and looking over the provided material thoroughly enough. I thought I was suppose to use websocket to put jarvis in different modes, and was thoroughly confused with how to do that given that I found the websocket documentation lacking. However, once I figured how things were laid out, the rest of the assignment was not too bad. This assignment definitely helped solidify my understanding of python object oriented programming, particularly the usefulness of the local \"jarvis\" variables. I also like the idea of pickling data. I can see this would be useful if simulations are long, data sets are large, or both. You can quickly pickle data to be used later, and avoid having to rerun simulations.\n",
    "\n",
    "I actually found this assignment was pretty fun!  It was partcularly rewarding once jarvis was working and could \"talk\" to you. This jarvis bot I think could be fun to interact with if we can make it more sophisticated. "
   ]
  },
  {
   "cell_type": "code",
   "execution_count": null,
   "metadata": {
    "collapsed": true
   },
   "outputs": [],
   "source": []
  }
 ],
 "metadata": {
  "kernelspec": {
   "display_name": "Python 3",
   "language": "python",
   "name": "python3"
  },
  "language_info": {
   "codemirror_mode": {
    "name": "ipython",
    "version": 3
   },
   "file_extension": ".py",
   "mimetype": "text/x-python",
   "name": "python",
   "nbconvert_exporter": "python",
   "pygments_lexer": "ipython3",
   "version": "3.5.2"
  }
 },
 "nbformat": 4,
 "nbformat_minor": 1
}
