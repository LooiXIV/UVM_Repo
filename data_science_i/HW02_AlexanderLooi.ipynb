{
 "cells": [
  {
   "cell_type": "markdown",
   "metadata": {},
   "source": [
    "# Homework 02\n",
    "### Alexander Looi\n",
    "### Data Science I"
   ]
  },
  {
   "cell_type": "code",
   "execution_count": 356,
   "metadata": {
    "collapsed": false
   },
   "outputs": [],
   "source": [
    "# (do not modify this cell)\n",
    "\n",
    "# allowed imports only (you may not need all of these)\n",
    "import sys, os\n",
    "import glob\n",
    "import numpy as np\n",
    "import scipy.stats\n",
    "import matplotlib.pyplot as plt\n",
    "\n",
    "# make plots stay inside the notebook\n",
    "%matplotlib inline\n",
    "\n",
    "# Here I set up my work directory, make sure I'm in the correct directory, and also double check that \n",
    "# the correct files are in the directory\n",
    "cur_dir = os.getcwd() # check to see if we're in the correct directory\n",
    "cur_dir = \"/Users/Looi/Google Drive/UVM/Classes/Fall 2017/Data_Science_I/HW02\"\n",
    "os.listdir() # list the files in the directory\n",
    "data_dir = cur_dir + \"/reports\"\n",
    "os.chdir(data_dir)\n",
    "report_list = os.listdir() # get a list of all the reports\n",
    "#print(report_list)"
   ]
  },
  {
   "cell_type": "markdown",
   "metadata": {},
   "source": [
    "# Functions"
   ]
  },
  {
   "cell_type": "code",
   "execution_count": 73,
   "metadata": {
    "collapsed": false
   },
   "outputs": [
    {
     "name": "stdout",
     "output_type": "stream",
     "text": [
      "{'Fiber pipeline in:': 3.0, 'Power/generator reduction:': 0.0, 'Operator (employee) error:': 0.0, 'Power/generator loss:': 0.0, 'HVAC:': 5.0, 'Fiber pipeline out:': 1.0, 'Physical intrusion (person):': 0.0, 'Operator (non-employee) error:': 0.0, 'Physical intrusion (water):': 2.0, 'Misc. elec.:': 14.0}\n",
      "{'Fiber pipeline in:': 5.0, 'Power/generator loss:': 0.0, 'Fiber pipeline out:': 5.0, 'Physical intrusion (person):': 0.0, 'Power/generator reduction:': 1.0, 'Operator (non-employee) error:': 0.0, 'Operator (employee) error:': 0.0, 'Misc. elec.:': 29.0, 'Physical intrusion (water):': 6.0}\n"
     ]
    }
   ],
   "source": [
    "# Right now this function also will load in the data center number id\n",
    "def load_report(filename):\n",
    "    \"\"\"takes a string that is a name of a file and reads it into python\"\"\"\n",
    "    file_contents = open(filename, mode = \"r+\")\n",
    "    # create a new dictionary\n",
    "    error2count = {}\n",
    "    for l in file_contents:\n",
    "        # split all the parts of the row up.\n",
    "        row = l.split()\n",
    "        # check to see if there is an empty row of just spaces. \n",
    "        # if the first entry in the row is empty ignore it.\n",
    "        try:\n",
    "            raw_char = row[0]\n",
    "            # check to see if you can turn the last value of a row\n",
    "            # into an integer/float, if you can add the data\n",
    "            try:\n",
    "                error_count = float(row[-1])\n",
    "                # join together with a single space, the non numeric parts of the row\n",
    "                row_name = \" \".join(row[0:-1])\n",
    "                row_name.strip(\":\")\n",
    "                #print(row_name)\n",
    "                error2count[row_name] = error_count\n",
    "            except ValueError:\n",
    "                pass\n",
    "        except IndexError:\n",
    "            pass\n",
    "        # check to see that the rows and values are correnct\n",
    "        #print(row_name, row[-1])\n",
    "    # remove the data center key\n",
    "    del error2count[\"DATACENTER\"]\n",
    "    # need to consolidate the Air Conditioning error types\n",
    "    \n",
    "    AC_keys = [\"HVAC:\",\"Air Con.:\",\"A/C:\"]\n",
    "    \n",
    "    for ac in AC_keys:\n",
    "        try:\n",
    "            error2count[\"HVAC:\"] = error2count[ac]\n",
    "            del error2count[ac]\n",
    "        except KeyError:\n",
    "            pass\n",
    "    return error2count\n",
    "# test on a couple of random .dat files\n",
    "print(load_report(\"000001.dat\"))\n",
    "print(load_report(\"000153.dat\"))"
   ]
  },
  {
   "cell_type": "markdown",
   "metadata": {},
   "source": [
    "[Define any of your other functions here, replacing this cell with descriptions of your functions as needed:]"
   ]
  },
  {
   "cell_type": "code",
   "execution_count": 143,
   "metadata": {
    "collapsed": false
   },
   "outputs": [
    {
     "data": {
      "text/plain": [
       "{'Fiber pipeline in:': 5.0,\n",
       " 'Fiber pipeline out:': 5.0,\n",
       " 'HVAC:': 0,\n",
       " 'Misc. elec.:': 29.0,\n",
       " 'Operator (employee) error:': 0.0,\n",
       " 'Operator (non-employee) error:': 0.0,\n",
       " 'Physical intrusion (person):': 0.0,\n",
       " 'Physical intrusion (water):': 6.0,\n",
       " 'Power/generator loss:': 0.0,\n",
       " 'Power/generator reduction:': 1.0}"
      ]
     },
     "execution_count": 143,
     "metadata": {},
     "output_type": "execute_result"
    }
   ],
   "source": [
    "# other functions:\n",
    "# A function here to add in missing error modes to data centers that don't report certain error modes\n",
    "\n",
    "def add_missing_em(data_center, keys):\n",
    "    for k in keys:\n",
    "        try:\n",
    "            data_center[k]\n",
    "        except KeyError:\n",
    "            data_center[k] = 0\n",
    "    return data_center\n",
    "keys_test = load_report(\"000001.dat\").keys()\n",
    "add_missing_em(load_report(\"000153.dat\"), keys_test)"
   ]
  },
  {
   "cell_type": "markdown",
   "metadata": {},
   "source": [
    "# Problem 1\n"
   ]
  },
  {
   "cell_type": "code",
   "execution_count": 146,
   "metadata": {
    "collapsed": false,
    "scrolled": false
   },
   "outputs": [
    {
     "name": "stdout",
     "output_type": "stream",
     "text": [
      "{'Fiber pipeline in:', 'Power/generator reduction:', 'Operator (employee) error:', 'Power/generator loss:', 'HVAC:', 'Fiber pipeline out:', 'Physical intrusion (person):', 'Operator (non-employee) error:', 'Physical intrusion (water):', 'Misc. elec.:'}\n"
     ]
    }
   ],
   "source": [
    "# grab all .dat files\n",
    "r_list = glob.glob(\"*.dat\")\n",
    "\n",
    "# make a list of all error types in the files\n",
    "all_error_types = []\n",
    "\n",
    "error_dict = {}\n",
    "datcen_dict = {}\n",
    "\n",
    "for r in r_list:\n",
    "    dat_errors = load_report(r)\n",
    "    dat_keys = dat_errors.keys()\n",
    "    error_keys = [d for d in dat_keys]\n",
    "    #print(error_keys)\n",
    "    # create a list of all the error types read in by the load report function.\n",
    "    [all_error_types.append(ek) for ek in error_keys]\n",
    "    # iterate through all the dictionary keys of each newly loaded error report\n",
    "    # and sum all the different error types.\n",
    "    datcen_dict[r] = dat_errors\n",
    "    for et in dat_keys:\n",
    "        try:\n",
    "            error_dict[et] = error_dict[et] + dat_errors[et]\n",
    "        except KeyError:\n",
    "            error_dict[et] = dat_errors[et]\n",
    "\n",
    "#print(all_error_types)\n",
    "keys = set(all_error_types)\n"
   ]
  },
  {
   "cell_type": "code",
   "execution_count": 355,
   "metadata": {
    "collapsed": false
   },
   "outputs": [],
   "source": [
    "r_list = glob.glob(\"*.dat\")\n",
    "#print(r_list)"
   ]
  },
  {
   "cell_type": "code",
   "execution_count": 144,
   "metadata": {
    "collapsed": false
   },
   "outputs": [
    {
     "data": {
      "text/plain": [
       "1431"
      ]
     },
     "execution_count": 144,
     "metadata": {},
     "output_type": "execute_result"
    }
   ],
   "source": [
    "# code to check the .dat file name file numbers\n",
    "dat_cen_num = [int(r.strip(\".dat\")) for r in r_list]\n",
    "ran_num = range(0, dat_cen_num[-1]+1)\n",
    "tot_dat_cen = len(set(dat_cen_num))\n",
    "len(set(ran_num))"
   ]
  },
  {
   "cell_type": "markdown",
   "metadata": {},
   "source": [
    "4. The data numbers center numbers appear to be consistent. Consistent in this case means there are numbers go from 0 to 1430.\n",
    "\n",
    "5. The data sets are not entirely consistent. My definition of consistent error modes simply means if error modes are the same and mean the same thing across data sets. Some data sets don't report zero values while others will, thus the error types listed between .dat files tend to differ. The \"Operation Notes\" also don't appear in each .dat file consistently either. In some files theis data appears at the top of the file and in others these data appear at the bottom of the file. Amongst the error type data, the biggest inconsistency is how air conditioning errors are reported. In files it is reported as either \"A/C\", \"Air Con.\", and \"HVAC\"; these file will need to combined. Curiously, there appear to be no errors as a result of \"Power/Generator loss\" or \"Operator (employee) error\"\n",
    "\n",
    "6. The error counts appear consistent, in that they are all integers. In some cases it appears that instead of reporting the number zero a error mode will be left out. "
   ]
  },
  {
   "cell_type": "markdown",
   "metadata": {},
   "source": [
    "# Problem 2"
   ]
  },
  {
   "cell_type": "markdown",
   "metadata": {
    "collapsed": true
   },
   "source": [
    "1. Analyze these counts to report what are the different error modes and how often they occur. Do some data centers experience more errors than others? What is the typical number of errors a data center should expect? What are the most common types of errors experienced by data centers? Ask and answer at least two more questions of these data!\n",
    "\n",
    "2. Being very careful as you interpret your analyses, what are the **riskiest** error modes in terms of shutting down data centers?"
   ]
  },
  {
   "cell_type": "code",
   "execution_count": 155,
   "metadata": {
    "collapsed": false
   },
   "outputs": [
    {
     "name": "stdout",
     "output_type": "stream",
     "text": [
      "{'Fiber pipeline in:': 0, 'Power/generator loss:': 0, 'HVAC:': 0, 'Fiber pipeline out:': 0, 'Physical intrusion (person):': 0, 'Power/generator reduction:': 0, 'Operator (non-employee) error:': 0, 'Misc. elec.:': 0, 'Physical intrusion (water):': 0, 'Operator (employee) error:': 0}\n"
     ]
    },
    {
     "data": {
      "text/plain": [
       "'Fiber pipeline in:'"
      ]
     },
     "execution_count": 155,
     "metadata": {},
     "output_type": "execute_result"
    }
   ],
   "source": [
    "print(x_em)"
   ]
  },
  {
   "cell_type": "code",
   "execution_count": 169,
   "metadata": {
    "collapsed": false
   },
   "outputs": [
    {
     "name": "stdout",
     "output_type": "stream",
     "text": [
      "MEANS\n",
      "Fiber pipeline in: 29.770090845562542\n",
      "Power/generator loss: 0.0\n",
      "HVAC: 24.03913347309574\n",
      "Fiber pipeline out: 8.551362683438155\n",
      "Physical intrusion (person): 0.43116701607267643\n",
      "Power/generator reduction: 5.424178895877009\n",
      "Operator (non-employee) error: 3.1369671558350802\n",
      "Misc. elec.: 149.73375262054506\n",
      "Physical intrusion (water): 35.41858839972048\n",
      "Operator (employee) error: 0.0\n",
      "\n",
      "\n",
      "STANARD DEVIATIONS\n",
      "Fiber pipeline in: 498.69810336\n",
      "Power/generator reduction: 90.9487208689\n",
      "Operator (employee) error: 0.0\n",
      "Power/generator loss: 0.0\n",
      "HVAC: 496.640992265\n",
      "Fiber pipeline out: 141.984797502\n",
      "Physical intrusion (person): 7.07803019888\n",
      "Operator (non-employee) error: 52.3548818249\n",
      "Physical intrusion (water): 440.314734224\n",
      "Misc. elec.: 2521.99905064\n",
      "\n",
      "\n",
      "Total mean 25.650524109\n",
      "Total Errors 367059.0\n",
      "Total STD 842.591403128\n",
      "\n",
      "\n"
     ]
    },
    {
     "data": {
      "text/plain": [
       "{'Fiber pipeline in:': 42601.0,\n",
       " 'Fiber pipeline out:': 12237.0,\n",
       " 'HVAC:': 34400.0,\n",
       " 'Misc. elec.:': 214269.0,\n",
       " 'Operator (employee) error:': 0.0,\n",
       " 'Operator (non-employee) error:': 4489.0,\n",
       " 'Physical intrusion (person):': 617.0,\n",
       " 'Physical intrusion (water):': 50684.0,\n",
       " 'Power/generator loss:': 0.0,\n",
       " 'Power/generator reduction:': 7762.0}"
      ]
     },
     "execution_count": 169,
     "metadata": {},
     "output_type": "execute_result"
    }
   ],
   "source": [
    "# mean errors for each mode\n",
    "mean_error_dict = {}\n",
    "std_error_dict = {}\n",
    "print(\"MEANS\")\n",
    "# calc the mean for each error model\n",
    "for dk in error_dict.keys():\n",
    "    mean_error_dict[dk] = error_dict[dk]/tot_dat_cen\n",
    "    print(dk, mean_error_dict[dk])\n",
    "\n",
    "\n",
    "# calc the standard deviation for each error model\n",
    "x_em = {} # error counts for each error model for each\n",
    "x = []\n",
    "# add keys to x_em\n",
    "for k in keys:\n",
    "    x_em[k] = []\n",
    "              \n",
    "for dk in datcen_dict.keys():\n",
    "    # if an error mode doesn't exits in a data center add it with a zero\n",
    "    datcen_dict[dk] = add_missing_em(datcen_dict[dk], keys)\n",
    "    for em in datcen_dict[dk].keys():\n",
    "        # this shouldn't fail if the function add_missing_em has done its job\n",
    "        x_em[em].append(datcen_dict[dk][em])\n",
    "        x.append(datcen_dict[dk][em])\n",
    "# check the data\n",
    "#print(x_em)\n",
    "print(\"\\n\")\n",
    "# calc the standard deviation for the different error modes\n",
    "print(\"STANARD DEVIATIONS\")\n",
    "for k in keys:\n",
    "    std_em = np.std(x_em[k])\n",
    "    std_error_dict[k] = std_em\n",
    "    print(k, std_em)\n",
    "print(\"\\n\")\n",
    "print(\"Total mean\", np.mean(x))\n",
    "print(\"Total Errors\", np.sum(x))\n",
    "print(\"Total STD\", np.std(x))\n",
    "print(\"\\n\")\n",
    "error_dict"
   ]
  },
  {
   "cell_type": "code",
   "execution_count": 354,
   "metadata": {
    "collapsed": false
   },
   "outputs": [
    {
     "name": "stdout",
     "output_type": "stream",
     "text": [
      "Data Center   # of stds\n",
      "000223.dat 132.853657253\n",
      "000353.dat 124.911492196\n",
      "000959.dat 33.5825281042\n",
      "001357.dat 16.9718672927\n",
      "000841.dat 15.3732276733\n",
      "001386.dat 12.2103660656\n",
      "001035.dat 8.74961392737\n",
      "001176.dat 8.18231642323\n",
      "000159.dat 4.78446547274\n",
      "001092.dat 4.77853139843\n",
      "000004.dat 3.14666096289\n",
      "001114.dat 2.96507828897\n",
      "000757.dat 2.55562716151\n"
     ]
    }
   ],
   "source": [
    "# find which data centers are a standard deviation for total error modes for the entire time span.\n",
    "list_dc = [] # list of data centers\n",
    "list_tot_ec = [] # list of error counts\n",
    "\n",
    "list_2std = []\n",
    "for dc in datcen_dict.keys():\n",
    "    dc_err_count = [] # count the total number errors in each data center\n",
    "    for em in datcen_dict[dc].keys():\n",
    "        err_num = datcen_dict[dc][em] # integer count of errors\n",
    "        dc_err_count.append(err_num)\n",
    "    tot_ec_dc = np.sum(dc_err_count) # total error count for a data center\n",
    "    list_dc.append(dc)\n",
    "    list_tot_ec.append(tot_ec_dc)\n",
    "all_errorcount_dc = list(zip(list_tot_ec, list_dc))\n",
    "all_errorcount_dc = sorted(all_errorcount_dc, reverse = True)\n",
    "#print(list(all_errorcount_dc))\n",
    "#print(all_errorcount_dc[0][0])\n",
    "print(\"Data Center\", \" \", \"# of stds\")\n",
    "for ec in all_errorcount_dc:\n",
    "    # calc the number of standard deviations\n",
    "    diff_mean = ec[0]-np.mean(x)\n",
    "    num_std = diff_mean/np.std(x)\n",
    "    if num_std > 2:\n",
    "        print(ec[1], num_std)\n",
    "        list_2std.append(ec)\n",
    "        #print(ec[0])\n",
    "tot_baddc=111967.0+105275.0+28322.0+14326.0+12979.0+10314.0+7398.0+6920.0+4057.0+2677.0+2179.0\n",
    "percent_baddc = tot_baddc/367059.0\n",
    "#print(percent_baddc)"
   ]
  },
  {
   "cell_type": "markdown",
   "metadata": {},
   "source": [
    "In the above code, the data centers where the number of error counts are greater than 2 standard deviations is printed. Here we see 3 data centers that are over 100 standard deviations greater than the mean! There are still more data centers that are 12 to 33 std greater than the mean and several in the 8, 4, 3, and 2 range. Interestingly, these are only 13 out of 1431 data centers (less than 1 percent). They also account for more than 83% of the errors in all of these error reports.\n",
    "\n",
    "The total number of errors a data center can expect to get is about 25 errors for the time period. However, the distribution of the number of expected errors for the \"mean data center\" will vary depending on error mode. Also, there are several significant outliers which experience many different types of errors in addition to experiencing a lot of errors. The most common kind of error is the misc. electrical error, which makes sense because this kind of error encompasses the most different kinds of errors. Another thing to note is that these are not normal Guassian distributions because a lot of these error counts cannot be negative therefore a lot of these distributions are skewed and pulled to the \"right\" by data centers that experience a lot of errors.\n",
    "\n",
    "The *riskiest* errors appear to be HVAC, misc. elec., Fiber pipeline in, Physical intrusion (water), and Fiber pipline out in that these are the errors that occur the most in terms of total count and mean count per data center. However, again, this is probably due to a number of outliers because the standard deviations for these three error modes are also high. "
   ]
  },
  {
   "cell_type": "code",
   "execution_count": 200,
   "metadata": {
    "collapsed": false
   },
   "outputs": [
    {
     "name": "stdout",
     "output_type": "stream",
     "text": [
      "\n",
      "\n",
      "000223.dat\n",
      "Fiber pipeline in: 13341.0\n",
      "Power/generator reduction: 2457.0\n",
      "Operator (employee) error: 0.0\n",
      "Power/generator loss: 0.0\n",
      "HVAC: 13518.0\n",
      "Fiber pipeline out: 3791.0\n",
      "Physical intrusion (person): 184.0\n",
      "Operator (non-employee) error: 1412.0\n",
      "Physical intrusion (water): 9497.0\n",
      "Misc. elec.: 67767.0\n",
      "\n",
      "\n",
      "000353.dat\n",
      "Fiber pipeline in: 12648.0\n",
      "Power/generator reduction: 2278.0\n",
      "Operator (employee) error: 0.0\n",
      "Power/generator loss: 0.0\n",
      "HVAC: 12483.0\n",
      "Fiber pipeline out: 3596.0\n",
      "Physical intrusion (person): 184.0\n",
      "Operator (non-employee) error: 1315.0\n",
      "Physical intrusion (water): 9075.0\n",
      "Misc. elec.: 63696.0\n",
      "\n",
      "\n",
      "000959.dat\n",
      "Fiber pipeline in: 3407.0\n",
      "Power/generator reduction: 626.0\n",
      "Operator (employee) error: 0.0\n",
      "Power/generator loss: 0.0\n",
      "HVAC: 3421.0\n",
      "Fiber pipeline out: 980.0\n",
      "Physical intrusion (person): 46.0\n",
      "Operator (non-employee) error: 350.0\n",
      "Physical intrusion (water): 2476.0\n",
      "Misc. elec.: 17016.0\n",
      "\n",
      "\n",
      "001357.dat\n",
      "Fiber pipeline in: 665.0\n",
      "Physical intrusion (water): 9782.0\n",
      "HVAC: 0\n",
      "Power/generator loss: 0.0\n",
      "Fiber pipeline out: 198.0\n",
      "Physical intrusion (person): 14.0\n",
      "Power/generator reduction: 123.0\n",
      "Operator (non-employee) error: 73.0\n",
      "Operator (employee) error: 0.0\n",
      "Misc. elec.: 3471.0\n",
      "\n",
      "\n",
      "000841.dat\n",
      "Fiber pipeline in: 1551.0\n",
      "Power/generator reduction: 301.0\n",
      "Operator (employee) error: 0.0\n",
      "Power/generator loss: 0.0\n",
      "HVAC: 1556.0\n",
      "Fiber pipeline out: 464.0\n",
      "Physical intrusion (person): 26.0\n",
      "Operator (non-employee) error: 164.0\n",
      "Physical intrusion (water): 1088.0\n",
      "Misc. elec.: 7829.0\n",
      "\n",
      "\n",
      "001386.dat\n",
      "Fiber pipeline in: 1344.0\n",
      "Physical intrusion (water): 996.0\n",
      "HVAC: 0\n",
      "Power/generator loss: 0.0\n",
      "Fiber pipeline out: 450.0\n",
      "Physical intrusion (person): 22.0\n",
      "Power/generator reduction: 234.0\n",
      "Operator (non-employee) error: 172.0\n",
      "Operator (employee) error: 0.0\n",
      "Misc. elec.: 7096.0\n",
      "\n",
      "\n",
      "001035.dat\n",
      "Fiber pipeline in: 1047.0\n",
      "Physical intrusion (water): 737.0\n",
      "HVAC: 0\n",
      "Power/generator loss: 0.0\n",
      "Fiber pipeline out: 280.0\n",
      "Physical intrusion (person): 15.0\n",
      "Power/generator reduction: 184.0\n",
      "Operator (non-employee) error: 98.0\n",
      "Operator (employee) error: 0.0\n",
      "Misc. elec.: 5037.0\n",
      "\n",
      "\n",
      "001176.dat\n",
      "Fiber pipeline in: 849.0\n",
      "Power/generator reduction: 154.0\n",
      "Operator (employee) error: 0.0\n",
      "Power/generator loss: 0.0\n",
      "HVAC: 833.0\n",
      "Fiber pipeline out: 247.0\n",
      "Physical intrusion (person): 13.0\n",
      "Operator (non-employee) error: 80.0\n",
      "Physical intrusion (water): 559.0\n",
      "Misc. elec.: 4185.0\n",
      "\n",
      "\n",
      "000159.dat\n",
      "Fiber pipeline in: 483.0\n",
      "Power/generator reduction: 94.0\n",
      "Operator (employee) error: 0.0\n",
      "Power/generator loss: 0.0\n",
      "Fiber pipeline out: 136.0\n",
      "Physical intrusion (person): 3.0\n",
      "HVAC: 510.0\n",
      "Operator (non-employee) error: 48.0\n",
      "Physical intrusion (water): 327.0\n",
      "Misc. elec.: 2456.0\n",
      "\n",
      "\n",
      "001092.dat\n",
      "Fiber pipeline in: 548.0\n",
      "Physical intrusion (water): 405.0\n",
      "HVAC: 0\n",
      "Power/generator loss: 0.0\n",
      "Fiber pipeline out: 158.0\n",
      "Physical intrusion (person): 5.0\n",
      "Power/generator reduction: 109.0\n",
      "Operator (non-employee) error: 54.0\n",
      "Operator (employee) error: 0.0\n",
      "Misc. elec.: 2773.0\n",
      "\n",
      "\n",
      "000004.dat\n",
      "Fiber pipeline in: 353.0\n",
      "Physical intrusion (water): 249.0\n",
      "HVAC: 0\n",
      "Power/generator loss: 0.0\n",
      "Fiber pipeline out: 101.0\n",
      "Physical intrusion (person): 3.0\n",
      "Power/generator reduction: 77.0\n",
      "Operator (non-employee) error: 38.0\n",
      "Operator (employee) error: 0.0\n",
      "Misc. elec.: 1856.0\n",
      "\n",
      "\n",
      "001114.dat\n",
      "Fiber pipeline in: 347.0\n",
      "Physical intrusion (water): 245.0\n",
      "HVAC: 0\n",
      "Power/generator loss: 0.0\n",
      "Fiber pipeline out: 90.0\n",
      "Physical intrusion (person): 11.0\n",
      "Power/generator reduction: 62.0\n",
      "Operator (non-employee) error: 43.0\n",
      "Operator (employee) error: 0.0\n",
      "Misc. elec.: 1726.0\n",
      "\n",
      "\n",
      "000757.dat\n",
      "Fiber pipeline in: 273.0\n",
      "Power/generator reduction: 56.0\n",
      "Operator (employee) error: 0.0\n",
      "Power/generator loss: 0.0\n",
      "Fiber pipeline out: 79.0\n",
      "Physical intrusion (person): 6.0\n",
      "HVAC: 268.0\n",
      "Operator (non-employee) error: 30.0\n",
      "Physical intrusion (water): 188.0\n",
      "Misc. elec.: 1279.0\n"
     ]
    }
   ],
   "source": [
    "# here I will look at the worse data centers for errors and see what kinds of errors as most numerous.\n",
    "#print(list_2std)\n",
    "for dc in list_2std:\n",
    "    print(\"\\n\")\n",
    "    print(dc[1])\n",
    "    for d in datcen_dict[dc[1]].keys():\n",
    "        print(d, datcen_dict[dc[1]][d])"
   ]
  },
  {
   "cell_type": "markdown",
   "metadata": {},
   "source": [
    "Just Looking at the raw data here it appears that misc. electrical problems is the biggest reason for error report counts followed by errors involving the pipline in, reduction in power out put and intrusion of water in the data centers with the most error mode counts."
   ]
  },
  {
   "cell_type": "markdown",
   "metadata": {},
   "source": [
    "# Problem 3"
   ]
  },
  {
   "cell_type": "markdown",
   "metadata": {},
   "source": [
    "\n",
    "1. From the error reports, what data centers are most at risk due to flooding? Are some more at risk than others or is the risk of floods about the same across data centers. To answer this question, look at errors related to water compared with overall error rates. What proportion of the errors at each data center is due to water?\n",
    "\n",
    "2. Rank the  *N*  data centers according to flood risk, from a rank of  *R=1*  (most at risk) to  *R=N* least at risk. Develop a visualization or other data presentation to display this information compactly. **[Bonus for ugrads/Required for grads]**: When ranking of data centers according to flood risk, incorporate uncertainty in your risk proportions. Determine how best to do this, and **justify** your analysis choices.\n",
    "\n",
    "3. Rank data centers by their flood risk both with and without uncertainty, then determine an appropriate statistics for comparing how the *ranks* change."
   ]
  },
  {
   "cell_type": "code",
   "execution_count": 353,
   "metadata": {
    "collapsed": false
   },
   "outputs": [
    {
     "data": {
      "text/plain": [
       "[<matplotlib.lines.Line2D at 0x1177d10f0>]"
      ]
     },
     "execution_count": 353,
     "metadata": {},
     "output_type": "execute_result"
    },
    {
     "data": {
      "image/png": "[encoded data removed]",
      "text/plain": [
       "<matplotlib.figure.Figure at 0x117762e80>"
      ]
     },
     "metadata": {},
     "output_type": "display_data"
    }
   ],
   "source": [
    "# compile only errors as a result of water related errors\n",
    "water_intrusion = []\n",
    "dc_names = []\n",
    "all_errors = []\n",
    "prop_water_errors = []\n",
    "for dc in datcen_dict.keys():\n",
    "    water_intrusion.append(datcen_dict[dc][\"Physical intrusion (water):\"])\n",
    "    dc_names.append(dc)\n",
    "    all_error_dc = []\n",
    "    for ae in datcen_dict[dc].keys():\n",
    "        all_error_dc.append(datcen_dict[dc][ae])\n",
    "    all_errors.append(np.sum(all_error_dc))\n",
    "    prop_water_errors.append(datcen_dict[dc][\"Physical intrusion (water):\"]/np.sum(all_error_dc))\n",
    "    \n",
    "h2o_errors = sorted(list(zip(water_intrusion, dc_names, prop_water_errors)), reverse = True)\n",
    "\n",
    "# rank from most to least water related errors\n",
    "ranks = np.array(range(0,len(water_intrusion)))+1\n",
    "h2o_errors_rank = list(zip(list(ranks), h2o_errors))\n",
    "h2o_ranks_raw = {}\n",
    "h2p_prop_plot = []\n",
    "for r in h2o_errors_rank:\n",
    "    h2o_ranks_raw[r[1][1]] = r[0]\n",
    "for r in h2o_errors:\n",
    "    h2p_prop_plot.append(r[2])\n",
    "#h2o_ranks_raw[\"000353.dat\"]\n",
    "# look at the raw rank based on simple counts of errors, \n",
    "# even if data centers have the same error count they will be forced into a seperate rank than the others\n",
    "plt.plot(h2p_prop_plot)"
   ]
  },
  {
   "cell_type": "markdown",
   "metadata": {},
   "source": [
    "From this plot we can see that the proportion of errors that are water related do not appear to scale with raw count error count rank. However, we can see that there are a large number of highly ranked data centers can get a lot proportion of their errors from water related errors. Also after about rank 1000, data centers do not seem to suffer from water related errors at all."
   ]
  },
  {
   "cell_type": "markdown",
   "metadata": {},
   "source": [
    "To incorporate uncertainty I will fit a poisson to each data center with its own error rate $\\lambda$ (number of errors reported) and time interval $t$ (number of years error data was collected). I can then calc. the expected error rate over the given time period $N$ and uncertainty $\\sqrt(N)$ and fit that into a confidence interval $N\\pm1.96\\sqrt{N}$. This will give me confidence intervals I can use to see how similar expected error counts are among data centers. "
   ]
  },
  {
   "cell_type": "code",
   "execution_count": 337,
   "metadata": {
    "collapsed": false
   },
   "outputs": [],
   "source": [
    "# here create a poisson distribution for each data center with a mean and variance for each \n",
    "# if they have overlapping confidence intervals then they will share the same rank\n",
    "dc_poisson = {}\n",
    "for dc in datcen_dict.keys():\n",
    "    dc_N = datcen_dict[dc][\"Physical intrusion (water):\"]\n",
    "    dc_CIl = dc_N-1.96*np.sqrt(dc_N) # calc the lower bound CI\n",
    "    dc_CIu = dc_N+1.96*np.sqrt(dc_N) # calc the upper bound CI\n",
    "    # put the CI's in a dictionary with \n",
    "    dc_poisson[dc] = [dc_CIl, dc_CIu]\n",
    "    \n",
    "#print(dc_poisson)\n",
    "# was going to attempt at normalizing things to the expected error count...\n",
    "#avg_dc_N = np.mean(water_intrusion)\n",
    "#avg_CI1 = avg_dc_N+1.96*np.sqrt(avg_dc_N)\n",
    "#avg_CI2 = avg_dc_N-1.96*np.sqrt(avg_dc_N)\n",
    "\n",
    "# a function to see if two intervals overlap\n",
    "def overlap(CI1, CI2):\n",
    "    if CI1[0] <= CI2[1] and CI2[0] <= CI1[1]:\n",
    "        return True\n",
    "    else:\n",
    "        return False\n",
    "dc_poisson2 = dc_poisson\n",
    "rank_dict = {}\n",
    "# loop through data centers and see if the confidence interval overlaps. If they do, they get the same \n",
    "# rank, and are removed from the list of data to loop through. Count the number of other data centers\n",
    "# their CI overlaps. Here I am assuming that the more similar data sets have lower error rates\n",
    "# from previous work done. \n",
    "overlaps_count = []\n",
    "dc_keys = list(dc_poisson2.keys())\n",
    "rank_count = 0\n",
    "for dc in dc_keys:\n",
    "    counter = 0\n",
    "    rank_count += 1\n",
    "    rank_name = \"rank \"+str(rank_count)\n",
    "    rank_dict[rank_name] = []\n",
    "    int1 = dc_poisson2[dc]\n",
    "    for dc2 in dc_keys:\n",
    "        # make sure I don't check the over lap the same data center\n",
    "        if dc2==dc:\n",
    "            pass\n",
    "        else:\n",
    "            int2 = dc_poisson2[dc2]\n",
    "            if overlap(int1, int2):\n",
    "                rank_dict[rank_name].append([dc2, int2])\n",
    "                counter += 1\n",
    "        #dc_keys.remove(dc2)\n",
    "    overlaps_count.append(counter)"
   ]
  },
  {
   "cell_type": "markdown",
   "metadata": {},
   "source": [
    "Here I am ranking by finding how many other data centers a particular data center overlaps with. This is assuming that the more data centers a data center over laps with, the less water related errors it has (this is based on earlier work where most data centers had few water related incidents). "
   ]
  },
  {
   "cell_type": "code",
   "execution_count": 326,
   "metadata": {
    "collapsed": false
   },
   "outputs": [
    {
     "name": "stdout",
     "output_type": "stream",
     "text": [
      "[0, 1, 2, 3, 4, 5, 10, 23, 33, 49, 53, 55, 57, 60, 69, 72, 73, 74, 75, 76, 78, 81, 82, 85, 86, 87, 88, 90, 91, 93, 97, 98, 99, 100, 102, 103, 105, 106, 111, 112, 116, 118, 120, 121, 122, 124, 129, 130, 131, 133, 134, 135, 136, 137, 138, 139, 221, 411, 412, 821, 826, 828, 830, 1122, 1219, 1230, 1235]\n"
     ]
    },
    {
     "data": {
      "text/plain": [
       "1"
      ]
     },
     "execution_count": 326,
     "metadata": {},
     "output_type": "execute_result"
    }
   ],
   "source": [
    "num_overlap = zip(overlaps_count, dc_keys)\n",
    "num_overlap = sorted(list(num_overlap))\n",
    "# count the number of occurances\n",
    "uni_overlap = sorted(list(set(overlaps_count)))\n",
    "print(uni_overlap)\n",
    "counts_ol = []\n",
    "rank = 1\n",
    "dc_rank_num = []\n",
    "\n",
    "for ol in uni_overlap:\n",
    "    #print(ol)\n",
    "    num_ol = overlaps_count.count(ol)\n",
    "    counts_ol.append(num_ol)\n",
    "    #print(num_ol, ol)\n",
    "    for dc in num_overlap:\n",
    "        if dc[0]==ol:\n",
    "            dc_rank_num.append(rank)\n",
    "    rank += 1\n",
    "    \n",
    "dc_ranks_uc = list(zip(dc_rank_num,num_overlap))\n",
    "h2o_ranks_unc = {}\n",
    "\n",
    "for r in dc_ranks_uc:\n",
    "    h2o_ranks_unc[r[1][1]] = r[0]\n",
    "#h2o_ranks_unc[\"000353.dat\"]"
   ]
  },
  {
   "cell_type": "markdown",
   "metadata": {},
   "source": [
    "To find how the two different ranking systems differ, I'll try a \"rank error\", which will be defined as:\n",
    "$\\frac{(RR - UCR)^2}{N}$ where, $RR$ is the Raw Rank based on counts of errors, $UCR$ is the ranking incorporating uncertainty, and $N$ is the total number of data centers. This is essentially a difference squared rank, which penalizes high differences in rank."
   ]
  },
  {
   "cell_type": "code",
   "execution_count": 336,
   "metadata": {
    "collapsed": false
   },
   "outputs": [
    {
     "data": {
      "text/plain": [
       "<matplotlib.text.Text at 0x1104ac518>"
      ]
     },
     "execution_count": 336,
     "metadata": {},
     "output_type": "execute_result"
    },
    {
     "data": {
      "image/png": "[encoded data removed]",
      "text/plain": [
       "<matplotlib.figure.Figure at 0x1110e8908>"
      ]
     },
     "metadata": {},
     "output_type": "display_data"
    }
   ],
   "source": [
    "h2o_ranks_raw\n",
    "h2o_ranks_unc\n",
    "keys = h2o_ranks_unc.keys()\n",
    "error_ranks = {}\n",
    "\n",
    "error_rank_list = []\n",
    "error_rank__raw_prev = []\n",
    "error_rank__unc_prev = []\n",
    "error_rank_dc = []\n",
    "for k in keys:\n",
    "    dc_ER = ((h2o_ranks_raw[k] - h2o_ranks_unc[k])**2)/len(keys)\n",
    "    error_ranks[k] = dc_ER\n",
    "    error_rank_list.append(dc_ER)\n",
    "    error_rank__raw_prev.append(h2o_ranks_raw[k])\n",
    "    error_rank__unc_prev.append(h2o_ranks_unc[k])\n",
    "    error_rank_dc.append(k)\n",
    "# print the error_ranks just to take a lil' look see\n",
    "# print(error_ranks) \n",
    "plot_rank_error = sorted(list(zip(error_rank__raw_prev, error_rank_list, error_rank__unc_prev, error_rank_dc)))\n",
    "# plot the error_ranks according to rank \n",
    "\n",
    "#plot_rank_error # make sure zipped data is properly ranked\n",
    "error_rank_list_plot = []\n",
    "for er in plot_rank_error:\n",
    "    error_rank_list_plot.append(er[1])\n",
    "plt.plot(error_rank_list_plot)\n",
    "plt.xlabel(\"Raw Rank without Uncertainty\")\n",
    "plt.ylabel(\"Rank Error (DSR-difference squared rank)\")"
   ]
  },
  {
   "cell_type": "markdown",
   "metadata": {},
   "source": [
    "Here we can see that the lower ranked data centers (high risk of flooding) have really small changes in their rank while data centers with low risk of flooding have greater changes in their rank between the two rank methods I used. This is mainly because the \"Raw Ranking\" system, which bases rank on just raw count of water related errors does not account for similiarities between data centers and forces a different rank on each data center. My method using poisson CI and uncertainty accounts for potential similiarities. The potential similiarities allow for data centers to share the same rank as another data center. "
   ]
  },
  {
   "cell_type": "code",
   "execution_count": null,
   "metadata": {
    "collapsed": true
   },
   "outputs": [],
   "source": []
  }
 ],
 "metadata": {
  "kernelspec": {
   "display_name": "Python 3",
   "language": "python",
   "name": "python3"
  },
  "language_info": {
   "codemirror_mode": {
    "name": "ipython",
    "version": 3
   },
   "file_extension": ".py",
   "mimetype": "text/x-python",
   "name": "python",
   "nbconvert_exporter": "python",
   "pygments_lexer": "ipython3",
   "version": "3.5.2"
  },
  "toc": {
   "colors": {
    "hover_highlight": "#DAA520",
    "navigate_num": "#000000",
    "navigate_text": "#333333",
    "running_highlight": "#FF0000",
    "selected_highlight": "#FFD700",
    "sidebar_border": "#EEEEEE",
    "wrapper_background": "#FFFFFF"
   },
   "moveMenuLeft": true,
   "nav_menu": {
    "height": "120px",
    "width": "252px"
   },
   "navigate_menu": true,
   "number_sections": false,
   "sideBar": true,
   "threshold": 4,
   "toc_cell": false,
   "toc_section_display": "block",
   "toc_window_display": false,
   "widenNotebook": false
  }
 },
 "nbformat": 4,
 "nbformat_minor": 2
}
